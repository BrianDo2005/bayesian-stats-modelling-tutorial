{
 "cells": [
  {
   "cell_type": "markdown",
   "metadata": {},
   "source": [
    "This is a short example that I am thinking of putting in the Parameter Estimation section of the tutorial (NB2). Justin Bois suggested busting out sampling at this point and it may be nice to introduce PyMC3 with this small example of Finch beak lengths."
   ]
  },
  {
   "cell_type": "code",
   "execution_count": 1,
   "metadata": {},
   "outputs": [],
   "source": [
    "#Import packages\n",
    "import numpy as np\n",
    "import pandas as pd\n",
    "import seaborn as sns\n",
    "import matplotlib.pyplot as plt\n",
    "import pymc3 as pm\n",
    "%matplotlib inline\n",
    "sns.set()"
   ]
  },
  {
   "cell_type": "code",
   "execution_count": 2,
   "metadata": {},
   "outputs": [
    {
     "data": {
      "text/html": [
       "<div>\n",
       "<style scoped>\n",
       "    .dataframe tbody tr th:only-of-type {\n",
       "        vertical-align: middle;\n",
       "    }\n",
       "\n",
       "    .dataframe tbody tr th {\n",
       "        vertical-align: top;\n",
       "    }\n",
       "\n",
       "    .dataframe thead th {\n",
       "        text-align: right;\n",
       "    }\n",
       "</style>\n",
       "<table border=\"1\" class=\"dataframe\">\n",
       "  <thead>\n",
       "    <tr style=\"text-align: right;\">\n",
       "      <th></th>\n",
       "      <th>band</th>\n",
       "      <th>species</th>\n",
       "      <th>blength</th>\n",
       "      <th>bdepth</th>\n",
       "    </tr>\n",
       "  </thead>\n",
       "  <tbody>\n",
       "    <tr>\n",
       "      <th>0</th>\n",
       "      <td>19022</td>\n",
       "      <td>fortis</td>\n",
       "      <td>10.0</td>\n",
       "      <td>8.5</td>\n",
       "    </tr>\n",
       "    <tr>\n",
       "      <th>1</th>\n",
       "      <td>19028</td>\n",
       "      <td>fortis</td>\n",
       "      <td>12.5</td>\n",
       "      <td>8.9</td>\n",
       "    </tr>\n",
       "    <tr>\n",
       "      <th>2</th>\n",
       "      <td>19032</td>\n",
       "      <td>fortis</td>\n",
       "      <td>9.3</td>\n",
       "      <td>7.5</td>\n",
       "    </tr>\n",
       "    <tr>\n",
       "      <th>3</th>\n",
       "      <td>19041</td>\n",
       "      <td>fortis</td>\n",
       "      <td>10.3</td>\n",
       "      <td>9.6</td>\n",
       "    </tr>\n",
       "    <tr>\n",
       "      <th>4</th>\n",
       "      <td>19044</td>\n",
       "      <td>fortis</td>\n",
       "      <td>11.0</td>\n",
       "      <td>9.2</td>\n",
       "    </tr>\n",
       "  </tbody>\n",
       "</table>\n",
       "</div>"
      ],
      "text/plain": [
       "    band species  blength  bdepth\n",
       "0  19022  fortis     10.0     8.5\n",
       "1  19028  fortis     12.5     8.9\n",
       "2  19032  fortis      9.3     7.5\n",
       "3  19041  fortis     10.3     9.6\n",
       "4  19044  fortis     11.0     9.2"
      ]
     },
     "execution_count": 2,
     "metadata": {},
     "output_type": "execute_result"
    }
   ],
   "source": [
    "# Import and view head of data\n",
    "df_12 = pd.read_csv('../data/finch_beaks_2012.csv')\n",
    "df_12.head()"
   ]
  },
  {
   "cell_type": "code",
   "execution_count": 3,
   "metadata": {},
   "outputs": [],
   "source": [
    "# Construct the model\n",
    "with pm.Model() as finch_model:\n",
    "    # Prior on mean, variance\n",
    "    μ = pm.Normal('μ', mu=10, sd=5)\n",
    "    σ = pm.Lognormal('σ', 0, 10)\n",
    "    # Gaussian Likelihood\n",
    "    y = pm.Normal('y', mu=μ, sd=σ, observed=df_12.blength)"
   ]
  },
  {
   "cell_type": "code",
   "execution_count": 4,
   "metadata": {},
   "outputs": [
    {
     "name": "stderr",
     "output_type": "stream",
     "text": [
      "Average Loss = 492.52: 100%|██████████| 10000/10000 [00:08<00:00, 1233.94it/s]\n",
      "Finished [100%]: Average Loss = 492.42\n"
     ]
    },
    {
     "data": {
      "image/png": "[encoded data removed]",
      "text/plain": [
       "<Figure size 432x288 with 1 Axes>"
      ]
     },
     "metadata": {},
     "output_type": "display_data"
    }
   ],
   "source": [
    "# Sample from that shit!\n",
    "with finch_model:\n",
    "    samples = pm.fit(random_seed=42).sample(1000)\n",
    " \n",
    "# Plot posterior\n",
    "pm.plot_posterior(samples, varnames=['μ']);"
   ]
  }
 ],
 "metadata": {
  "kernelspec": {
   "display_name": "Python 3",
   "language": "python",
   "name": "python3"
  },
  "language_info": {
   "codemirror_mode": {
    "name": "ipython",
    "version": 3
   },
   "file_extension": ".py",
   "mimetype": "text/x-python",
   "name": "python",
   "nbconvert_exporter": "python",
   "pygments_lexer": "ipython3",
   "version": "3.6.6"
  }
 },
 "nbformat": 4,
 "nbformat_minor": 2
}
