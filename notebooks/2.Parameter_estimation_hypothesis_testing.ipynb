{
 "cells": [
  {
   "cell_type": "markdown",
   "metadata": {},
   "source": [
    "# Parameter estimation and hypothesis testing"
   ]
  },
  {
   "cell_type": "code",
   "execution_count": 1,
   "metadata": {},
   "outputs": [],
   "source": [
    "#Import packages\n",
    "import numpy as np\n",
    "import pandas as pd\n",
    "import seaborn as sns\n",
    "import matplotlib.pyplot as plt\n",
    "from ipywidgets import interact\n",
    "%matplotlib inline\n",
    "sns.set()"
   ]
  },
  {
   "cell_type": "markdown",
   "metadata": {},
   "source": [
    "## From Bayes Theorem to Bayesian Inference"
   ]
  },
  {
   "cell_type": "markdown",
   "metadata": {},
   "source": [
    "Let's say that we flip a biased coin several times and we want to estimate the probability of heads from the number of heads we saw. Statistical intuition tells us that our best estimate of $p(heads)=$ number of heads divided by total number of flips.\n",
    "\n",
    "However, \n",
    "\n",
    "1. It doesn't tell us how certain we can be of that estimate and\n",
    "2. This type of intuition doesn't extend to even slightly more complex examples.\n",
    "\n",
    "Bayesian inference helps us here. We can calculate the probability of a particular $p(H)$ given data $D$ by setting $A$ in Bayes Theorem equal to $p$ and $B$ equal to $D$."
   ]
  },
  {
   "cell_type": "markdown",
   "metadata": {},
   "source": [
    "\n",
    "$$P(p|D) = \\frac{P(D|p)P(p)}{P(D)} $$\n",
    "\n"
   ]
  },
  {
   "cell_type": "markdown",
   "metadata": {},
   "source": [
    "* Explain the above and why we don't currently need to consider $P(D)$ to get\n",
    "\n",
    "$$P(p|D) \\propto P(D|p)P(p) $$"
   ]
  },
  {
   "cell_type": "markdown",
   "metadata": {},
   "source": [
    "* Discuss & define _prior_, _likelihood_ and _posterior_. \n",
    "* Essential: we get the whole distribution of $P(p|D)$, not merely a point estimate plus errors bars.\n",
    "* Show analytic solution for posterior when flipping coins.\n",
    "* Now let's generate some coin flips and try to estimate $p(H)$. **Note:** $0\\leq p\\leq 1$."
   ]
  },
  {
   "cell_type": "code",
   "execution_count": 2,
   "metadata": {},
   "outputs": [],
   "source": [
    "def plot_posterior(p=0.6, N=0):\n",
    "    \"\"\"Plot the posterior given a uniform prior; Bernoulli trials\n",
    "    with probability p; sample size N\"\"\"\n",
    "    np.random.seed(42)\n",
    "    # Flip coins \n",
    "    n_successes = np.random.binomial(N, p)\n",
    "    # X-axis for PDF\n",
    "    x = np.linspace(0, 1, 100)\n",
    "    #prior\n",
    "    prior = 1\n",
    "    posterior = x**n_successes*(1-x)**(N-n_successes)*prior\n",
    "    posterior /= np.max(posterior)  # so that peak always at 1\n",
    "    plt.plot(x, posterior)\n",
    "    plt.show()"
   ]
  },
  {
   "cell_type": "code",
   "execution_count": 3,
   "metadata": {},
   "outputs": [
    {
     "data": {
      "image/png": "[encoded data removed]",
      "text/plain": [
       "<matplotlib.figure.Figure at 0x1151af3c8>"
      ]
     },
     "metadata": {},
     "output_type": "display_data"
    }
   ],
   "source": [
    "plot_posterior(N=10)"
   ]
  },
  {
   "cell_type": "markdown",
   "metadata": {},
   "source": [
    "* Now use the great ipywidget interact to check out the posterior as you generate more and more data (you can also vary $p$):"
   ]
  },
  {
   "cell_type": "code",
   "execution_count": 4,
   "metadata": {},
   "outputs": [
    {
     "data": {
      "application/vnd.jupyter.widget-view+json": {
       "model_id": "2b0a67609fcb4aab858ed30dd805965c"
      }
     },
     "metadata": {},
     "output_type": "display_data"
    }
   ],
   "source": [
    "interact(plot_posterior, p=(0, 1, 0.01), N=(0, 100));"
   ]
  },
  {
   "cell_type": "markdown",
   "metadata": {},
   "source": [
    "Things to note and to discuss as a group\n",
    "\n",
    "* as you generate more and more data, your posterior gets narrower, i.e. you get more and more certain of your estimate.\n",
    "* you need more data to be certain of your estimate when $p=0.5$, as opposed to when $p=0$ or $p=1$. "
   ]
  },
  {
   "cell_type": "markdown",
   "metadata": {},
   "source": [
    "### Other priors"
   ]
  },
  {
   "cell_type": "markdown",
   "metadata": {},
   "source": [
    "But wait! We've had to specify a prior. Discuss specification of priors. Motivate Jeffries prior and show equation for it. "
   ]
  },
  {
   "cell_type": "markdown",
   "metadata": {},
   "source": [
    "### Hands-on"
   ]
  },
  {
   "cell_type": "markdown",
   "metadata": {},
   "source": [
    "* Create an interactive plot like the one above, except that it has two posteriors on it: one for the uniform prior, another for the Jeffries prior."
   ]
  },
  {
   "cell_type": "code",
   "execution_count": 5,
   "metadata": {},
   "outputs": [],
   "source": [
    "# Solution\n",
    "def plot_posteriors(p=0.6, N=0):\n",
    "    np.random.seed(42)\n",
    "    n_successes = np.random.binomial(N, p)\n",
    "    x = np.linspace(0.01, 0.99, 100)\n",
    "    posterior1 = x**n_successes*(1-x)**(N-n_successes)  # w/ uniform prior\n",
    "    posterior1 /= np.max(posterior1)  # so that peak always at 1\n",
    "    plt.plot(x, posterior1, label='Uniform prior')\n",
    "    jp = np.sqrt(x*(1-x))**(-1)  # Jeffreys prior\n",
    "    posterior2 = posterior1*jp  # w/ Jeffreys prior\n",
    "    posterior2 /= np.max(posterior2)  # so that peak always at 1 (not quite correct to do; see below)\n",
    "    plt.plot(x, posterior2, label='Jeffreys prior')\n",
    "    plt.legend()\n",
    "    plt.show()"
   ]
  },
  {
   "cell_type": "code",
   "execution_count": 6,
   "metadata": {},
   "outputs": [
    {
     "data": {
      "application/vnd.jupyter.widget-view+json": {
       "model_id": "e2c09ae1ca954525a861f0d465981375"
      }
     },
     "metadata": {},
     "output_type": "display_data"
    }
   ],
   "source": [
    "interact(plot_posteriors, p=(0, 1, 0.01), N=(0, 100));"
   ]
  },
  {
   "cell_type": "markdown",
   "metadata": {},
   "source": [
    "**Question:** What happens to the posteriors as you generate more and more data?"
   ]
  },
  {
   "cell_type": "markdown",
   "metadata": {},
   "source": [
    "## Parameter estimation II: the mean of a population\n",
    "\n"
   ]
  },
  {
   "cell_type": "markdown",
   "metadata": {},
   "source": [
    "### Hands-on"
   ]
  },
  {
   "cell_type": "markdown",
   "metadata": {},
   "source": [
    "In this exercise, you'll calculate the  posterior mean beak depth of Galapagos finches. To do so, you'll assume that you know the population variance. \n",
    "[I'll take them through the equations and the pseudo-code of how to do this]"
   ]
  },
  {
   "cell_type": "markdown",
   "metadata": {},
   "source": [
    "## Bayesian Hypothesis testing"
   ]
  },
  {
   "cell_type": "markdown",
   "metadata": {},
   "source": [
    "### Instruction: A/B tests on click through rates"
   ]
  },
  {
   "cell_type": "markdown",
   "metadata": {},
   "source": [
    "### Hands-on: beak shape difference over 50 years in Galapagos finches"
   ]
  }
 ],
 "metadata": {
  "kernelspec": {
   "display_name": "Python 3",
   "language": "python",
   "name": "python3"
  },
  "language_info": {
   "codemirror_mode": {
    "name": "ipython",
    "version": 3
   },
   "file_extension": ".py",
   "mimetype": "text/x-python",
   "name": "python",
   "nbconvert_exporter": "python",
   "pygments_lexer": "ipython3",
   "version": "3.6.1"
  }
 },
 "nbformat": 4,
 "nbformat_minor": 2
}
