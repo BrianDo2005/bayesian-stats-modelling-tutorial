{
 "cells": [
  {
   "cell_type": "markdown",
   "metadata": {},
   "source": [
    "# Introduction\n",
    "\n",
    "In this notebook, we will look at how hierarchical models can help us in scenarios where we do not have sufficient data to meaningfully quantify our uncertainties. By making assumptions about relatedness, we can borrow statistical power from other observations, "
   ]
  },
  {
   "cell_type": "code",
   "execution_count": 1,
   "metadata": {},
   "outputs": [
    {
     "name": "stderr",
     "output_type": "stream",
     "text": [
      "/Users/ericmjl/anaconda/envs/bayesian-modelling-tutorial/lib/python3.6/site-packages/h5py/__init__.py:36: FutureWarning: Conversion of the second argument of issubdtype from `float` to `np.floating` is deprecated. In future, it will be treated as `np.float64 == np.dtype(float).type`.\n",
      "  from ._conv import register_converters as _register_converters\n"
     ]
    }
   ],
   "source": [
    "import pandas as pd\n",
    "import janitor as jn\n",
    "import pymc3 as pm\n",
    "\n",
    "%load_ext autoreload\n",
    "%autoreload 2\n",
    "%matplotlib inline\n",
    "%config InlineBackend.figure_format = 'retina'"
   ]
  },
  {
   "cell_type": "code",
   "execution_count": 20,
   "metadata": {},
   "outputs": [
    {
     "data": {
      "text/plain": [
       "species\n",
       "fortis      121\n",
       "scandens    127\n",
       "unknown       1\n",
       "dtype: int64"
      ]
     },
     "execution_count": 20,
     "metadata": {},
     "output_type": "execute_result"
    }
   ],
   "source": [
    "df = pd.read_csv('../data/finch_beaks_2012.csv')\n",
    "df = (jn.DataFrame(df)\n",
    "      .clean_names()\n",
    "      .rename_column('blength', 'beak_length')\n",
    "      .rename_column('bdepth', 'beak_depth')\n",
    "      .encode_categorical('species')\n",
    "     )\n",
    "df.groupby('species').size()"
   ]
  },
  {
   "cell_type": "code",
   "execution_count": 21,
   "metadata": {},
   "outputs": [
    {
     "data": {
      "text/html": [
       "<div>\n",
       "<style scoped>\n",
       "    .dataframe tbody tr th:only-of-type {\n",
       "        vertical-align: middle;\n",
       "    }\n",
       "\n",
       "    .dataframe tbody tr th {\n",
       "        vertical-align: top;\n",
       "    }\n",
       "\n",
       "    .dataframe thead th {\n",
       "        text-align: right;\n",
       "    }\n",
       "</style>\n",
       "<table border=\"1\" class=\"dataframe\">\n",
       "  <thead>\n",
       "    <tr style=\"text-align: right;\">\n",
       "      <th></th>\n",
       "      <th>count</th>\n",
       "      <th>mean</th>\n",
       "      <th>std</th>\n",
       "      <th>min</th>\n",
       "      <th>25%</th>\n",
       "      <th>50%</th>\n",
       "      <th>75%</th>\n",
       "      <th>max</th>\n",
       "    </tr>\n",
       "    <tr>\n",
       "      <th>species</th>\n",
       "      <th></th>\n",
       "      <th></th>\n",
       "      <th></th>\n",
       "      <th></th>\n",
       "      <th></th>\n",
       "      <th></th>\n",
       "      <th></th>\n",
       "      <th></th>\n",
       "    </tr>\n",
       "  </thead>\n",
       "  <tbody>\n",
       "    <tr>\n",
       "      <th>fortis</th>\n",
       "      <td>121.0</td>\n",
       "      <td>8.605372</td>\n",
       "      <td>0.732570</td>\n",
       "      <td>7.2</td>\n",
       "      <td>8.1</td>\n",
       "      <td>8.5</td>\n",
       "      <td>9.0</td>\n",
       "      <td>11.1</td>\n",
       "    </tr>\n",
       "    <tr>\n",
       "      <th>scandens</th>\n",
       "      <td>127.0</td>\n",
       "      <td>9.186220</td>\n",
       "      <td>0.669241</td>\n",
       "      <td>7.7</td>\n",
       "      <td>8.8</td>\n",
       "      <td>9.2</td>\n",
       "      <td>9.6</td>\n",
       "      <td>11.0</td>\n",
       "    </tr>\n",
       "    <tr>\n",
       "      <th>unknown</th>\n",
       "      <td>1.0</td>\n",
       "      <td>6.800000</td>\n",
       "      <td>NaN</td>\n",
       "      <td>6.8</td>\n",
       "      <td>6.8</td>\n",
       "      <td>6.8</td>\n",
       "      <td>6.8</td>\n",
       "      <td>6.8</td>\n",
       "    </tr>\n",
       "  </tbody>\n",
       "</table>\n",
       "</div>"
      ],
      "text/plain": [
       "          count      mean       std  min  25%  50%  75%   max\n",
       "species                                                      \n",
       "fortis    121.0  8.605372  0.732570  7.2  8.1  8.5  9.0  11.1\n",
       "scandens  127.0  9.186220  0.669241  7.7  8.8  9.2  9.6  11.0\n",
       "unknown     1.0  6.800000       NaN  6.8  6.8  6.8  6.8   6.8"
      ]
     },
     "execution_count": 21,
     "metadata": {},
     "output_type": "execute_result"
    }
   ],
   "source": [
    "df.groupby('species')['beak_depth'].describe()"
   ]
  },
  {
   "cell_type": "code",
   "execution_count": 22,
   "metadata": {},
   "outputs": [],
   "source": [
    "fortis_filter = df['species'] == 'fortis'\n",
    "scandens_filter = df['species'] == 'scandens'\n",
    "unknown_filter = df['species'] == 'unknown'"
   ]
  },
  {
   "cell_type": "code",
   "execution_count": 24,
   "metadata": {},
   "outputs": [],
   "source": [
    "def enc_species(x):\n",
    "    if x == 'fortis':\n",
    "        return 0\n",
    "    if x == 'scandens':\n",
    "        return 1\n",
    "    else:\n",
    "        return 2"
   ]
  },
  {
   "cell_type": "code",
   "execution_count": 25,
   "metadata": {},
   "outputs": [
    {
     "data": {
      "text/plain": [
       "0    0\n",
       "1    0\n",
       "2    0\n",
       "3    0\n",
       "4    0\n",
       "Name: species_enc, dtype: category\n",
       "Categories (3, int64): [0, 1, 2]"
      ]
     },
     "execution_count": 25,
     "metadata": {},
     "output_type": "execute_result"
    }
   ],
   "source": [
    "df['species_enc'] = df['species'].apply(lambda x: enc_species(x))\n",
    "df['species_enc'].head(5)"
   ]
  },
  {
   "cell_type": "code",
   "execution_count": 39,
   "metadata": {},
   "outputs": [],
   "source": [
    "with pm.Model() as beak_depth_model:\n",
    "    sd_prior = pm.HalfCauchy('sd_prior', beta=100)\n",
    "    beta_prior = pm.HalfCauchy('beta_prior', beta=100)\n",
    "    \n",
    "    finches_mean = pm.HalfNormal('finches_mean', sd=sd_prior, shape=(3,))\n",
    "    finches_sd = pm.HalfCauchy('finches_sd', beta=beta_prior, shape=(3,))\n",
    "    \n",
    "    fortis_mean = pm.Deterministic('fortis_mean', finches_mean[df[fortis_filter]['species_enc']])\n",
    "    scandens_mean = pm.Deterministic('scandens_mean', finches_mean[df[scandens_filter]['species_enc']])\n",
    "    \n",
    "    fortis_sd = pm.Deterministic('fortis_sd', finches_sd[df[fortis_filter]['species_enc']])\n",
    "    scandens_sd = pm.Deterministic('scandens_sd', finches_sd[df[scandens_filter]['species_enc']])\n",
    "    \n",
    "    unknown_mean = pm.Deterministic('unknown_mean', finches_mean[df[unknown_filter]['species_enc']])\n",
    "    unknown_sd = pm.Deterministic('unknown_sd', finches_sd[df[unknown_filter]['species_enc']])\n",
    "    \n",
    "    nu = pm.Exponential('nu', lam=1/29.) + 1\n",
    "    \n",
    "    like_fortis = pm.StudentT('like_fortis', mu=fortis_mean, sd=fortis_sd, nu=nu,\n",
    "                              observed=df[fortis_filter]['beak_depth'])\n",
    "    like_scandens = pm.StudentT('like_scandens', mu=scandens_mean, sd=scandens_sd, nu=nu,\n",
    "                                 observed=df[scandens_filter]['beak_depth'])\n",
    "    like_unknown = pm.StudentT('like_unknown', mu=unknown_mean, sd=unknown_sd, nu=nu,\n",
    "                               observed=df[unknown_filter]['beak_depth'])"
   ]
  },
  {
   "cell_type": "code",
   "execution_count": 42,
   "metadata": {},
   "outputs": [
    {
     "name": "stderr",
     "output_type": "stream",
     "text": [
      "Auto-assigning NUTS sampler...\n",
      "Initializing NUTS using jitter+adapt_diag...\n",
      "Multiprocess sampling (2 chains in 2 jobs)\n",
      "NUTS: [nu_log__, finches_sd_log__, finches_mean_log__, beta_prior_log__, sd_prior_log__]\n",
      "100%|██████████| 2500/2500 [02:55<00:00, 14.24it/s]\n",
      "The number of effective samples is smaller than 25% for some parameters.\n"
     ]
    }
   ],
   "source": [
    "with beak_depth_model:\n",
    "    trace = pm.sample(2000, nuts_kwargs={'target_accept': 0.95})"
   ]
  },
  {
   "cell_type": "code",
   "execution_count": 44,
   "metadata": {},
   "outputs": [
    {
     "data": {
      "text/plain": [
       "array([<matplotlib.axes._subplots.AxesSubplot object at 0x1c20a68208>,\n",
       "       <matplotlib.axes._subplots.AxesSubplot object at 0x1c20bf02b0>,\n",
       "       <matplotlib.axes._subplots.AxesSubplot object at 0x1c1da3f5f8>],\n",
       "      dtype=object)"
      ]
     },
     "execution_count": 44,
     "metadata": {},
     "output_type": "execute_result"
    },
    {
     "data": {
      "image/png": "[encoded data removed]",
      "text/plain": [
       "<Figure size 864x360 with 4 Axes>"
      ]
     },
     "metadata": {
      "image/png": {
       "height": 351,
       "width": 864
      }
     },
     "output_type": "display_data"
    }
   ],
   "source": [
    "pm.plot_posterior(trace, varnames=['finches_mean'], )"
   ]
  },
  {
   "cell_type": "code",
   "execution_count": null,
   "metadata": {},
   "outputs": [],
   "source": []
  }
 ],
 "metadata": {
  "kernelspec": {
   "display_name": "bayesian-modelling-tutorial",
   "language": "python",
   "name": "bayesian-modelling-tutorial"
  },
  "language_info": {
   "codemirror_mode": {
    "name": "ipython",
    "version": 3
   },
   "file_extension": ".py",
   "mimetype": "text/x-python",
   "name": "python",
   "nbconvert_exporter": "python",
   "pygments_lexer": "ipython3",
   "version": "3.6.5"
  }
 },
 "nbformat": 4,
 "nbformat_minor": 2
}
